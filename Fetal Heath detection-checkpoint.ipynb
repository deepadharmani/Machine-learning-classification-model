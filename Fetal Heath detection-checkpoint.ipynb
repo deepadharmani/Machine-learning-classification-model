{
 "cells": [
  {
   "cell_type": "markdown",
   "id": "964ad33d",
   "metadata": {},
   "source": [
    "Context\n",
    "Reduction of child mortality is reflected in several of the United Nations' Sustainable Development Goals and is a key indicator of human progress.\n",
    "The UN expects that by 2030, countries end preventable deaths of newborns and children under 5 years of age, with all countries aiming to reduce under‑5 mortality to at least as low as 25 per 1,000 live births.\n",
    "\n",
    "Parallel to notion of child mortality is of course maternal mortality, which accounts for 295 000 deaths during and following pregnancy and childbirth (as of 2017). The vast majority of these deaths (94%) occurred in low-resource settings, and most could have been prevented.\n",
    "\n",
    "In light of what was mentioned above, Cardiotocograms (CTGs) are a simple and cost accessible option to assess fetal health, allowing healthcare professionals to take action in order to prevent child and maternal mortality. The equipment itself works by sending ultrasound pulses and reading its response, thus shedding light on fetal heart rate (FHR), fetal movements, uterine contractions and more.\n",
    "\n",
    "Data\n",
    "This dataset contains 2126 records of features extracted from Cardiotocogram exams, which were then classified by three expert obstetritians into 3 classes:\n",
    "\n",
    "Normal\n",
    "Suspect\n",
    "Pathological"
   ]
  },
  {
   "cell_type": "code",
   "execution_count": null,
   "id": "de8bba0d",
   "metadata": {},
   "outputs": [],
   "source": [
    "# Importing essential libraries\n",
    "import pandas as pd\n",
    "import numpy as np\n",
    "import seaborn as sns \n",
    "import matplotlib.pyplot as plt\n",
    "%matplotlib inline"
   ]
  },
  {
   "cell_type": "code",
   "execution_count": null,
   "id": "b9408c09",
   "metadata": {},
   "outputs": [],
   "source": [
    "df=pd.read_csv(\"fetal_health_classification.csv\")"
   ]
  },
  {
   "cell_type": "code",
   "execution_count": null,
   "id": "10110bc1",
   "metadata": {},
   "outputs": [],
   "source": [
    "df.head()"
   ]
  },
  {
   "cell_type": "code",
   "execution_count": null,
   "id": "37281845",
   "metadata": {},
   "outputs": [],
   "source": [
    "df.describe().T"
   ]
  },
  {
   "cell_type": "raw",
   "id": "6e292828",
   "metadata": {},
   "source": [
    "Features\n",
    "\n",
    "'baseline value' FHR baseline (beats per minute)\n",
    "'accelerations' Number of accelerations per second\n",
    "'fetal_movement' Number of fetal movements per second\n",
    "'uterine_contractions' Number of uterine contractions per second\n",
    "'light_decelerations' Number of light decelerations per second\n",
    "'severe_decelerations' Number of severe decelerations per second\n",
    "'prolongued_decelerations' Number of prolonged decelerations per second\n",
    "'abnormal_short_term_variability' Percentage of time with abnormal short term variability\n",
    "'mean_value_of_short_term_variability' Mean value of short term variability\n",
    "'percentage_of_time_with_abnormal_long_term_variability' Percentage of time with abnormal long term variability\n",
    "'mean_value_of_long_term_variability' Mean value of long term variability\n",
    "'histogram_width' Width of FHR histogram\n",
    "'histogram_min' Minimum (low frequency) of FHR histogram\n",
    "'histogram_max' Maximum (high frequency) of FHR histogram\n",
    "'histogram_number_of_peaks' Number of histogram peaks\n",
    "'histogram_number_of_zeroes' Number of histogram zeros\n",
    "'histogram_mode' Histogram mode\n",
    "'histogram_mean' Histogram mean\n",
    "'histogram_median' Histogram median\n",
    "'histogram_variance' Histogram variance\n",
    "'histogram_tendency' Histogram tendency\n",
    "\n",
    "Target\n",
    "\n",
    "'fetal_health' Tagged as 1 (Normal), 2 (Suspect) and 3 (Pathological)"
   ]
  },
  {
   "cell_type": "raw",
   "id": "748d40d8",
   "metadata": {},
   "source": [
    "Data is Imbalanced\n",
    "maximum information is related to 1(normal) fetel_health"
   ]
  },
  {
   "cell_type": "code",
   "execution_count": null,
   "id": "409e3ea3",
   "metadata": {},
   "outputs": [],
   "source": [
    "sns.countplot(x=\"fetal_health\",data=df)"
   ]
  },
  {
   "cell_type": "code",
   "execution_count": null,
   "id": "e4876f73",
   "metadata": {},
   "outputs": [],
   "source": [
    "df.info()"
   ]
  },
  {
   "cell_type": "code",
   "execution_count": null,
   "id": "b006085e",
   "metadata": {},
   "outputs": [],
   "source": [
    "df.shape"
   ]
  },
  {
   "cell_type": "code",
   "execution_count": null,
   "id": "94e7e292",
   "metadata": {},
   "outputs": [],
   "source": [
    "df.isnull().sum()"
   ]
  },
  {
   "cell_type": "code",
   "execution_count": null,
   "id": "eae0c1ff",
   "metadata": {},
   "outputs": [],
   "source": [
    "df.corr()"
   ]
  },
  {
   "cell_type": "raw",
   "id": "8c5c9f19",
   "metadata": {},
   "source": [
    "Based on the correlation matix, it is clear that \"accelerations\",\"prolongued_decelerations\", \"abnormal_short_term_variability\", \"percentage_of_time_with_abnormal_long_term_variability\" and \"mean_value_of_long_term_variability\" are the features with higher correlation with fetal_health. Let's have a closer look at these with fetal_movement on y axis. This will provide a clearer picture of trends that indicate fetus health"
   ]
  },
  {
   "cell_type": "code",
   "execution_count": null,
   "id": "916428dc",
   "metadata": {},
   "outputs": [],
   "source": [
    "plt.figure(figsize=(15,15))\n",
    "sns.heatmap(df.drop('fetal_health',axis=1).corr(),annot=True)"
   ]
  },
  {
   "cell_type": "code",
   "execution_count": null,
   "id": "7f4282f4",
   "metadata": {},
   "outputs": [],
   "source": [
    "df.columns"
   ]
  },
  {
   "cell_type": "code",
   "execution_count": null,
   "id": "4cc2dbfb",
   "metadata": {},
   "outputs": [],
   "source": [
    "# Accelerations Vs Fetal Movement by Fetal Health\n",
    "sns.lmplot(data=df,x=\"accelerations\",y=\"fetal_movement\",hue=\"fetal_health\")"
   ]
  },
  {
   "cell_type": "code",
   "execution_count": null,
   "id": "f6394206",
   "metadata": {},
   "outputs": [],
   "source": [
    "# Prolongued Decelerations Vs Fetal Movement by Fetal Health\n",
    "sns.lmplot(data=df,x=\"prolongued_decelerations\",y=\"fetal_movement\",hue=\"fetal_health\")\n",
    "plt.show()"
   ]
  },
  {
   "cell_type": "code",
   "execution_count": null,
   "id": "8d9d4341",
   "metadata": {},
   "outputs": [],
   "source": [
    "# Abnormal Short Term Variability Vs Fetal Movement by Fetal Health\n",
    "sns.lmplot(data=df,x=\"abnormal_short_term_variability\",y=\"fetal_movement\",hue=\"fetal_health\")\n",
    "plt.show()"
   ]
  },
  {
   "cell_type": "code",
   "execution_count": null,
   "id": "f2938bac",
   "metadata": {},
   "outputs": [],
   "source": [
    "# Mean Value Of Long Term Variability Vs Fetal Movement by Fetal Health\n",
    "sns.lmplot(data=df,x=\"mean_value_of_long_term_variability\",y=\"fetal_movement\",hue=\"fetal_health\")\n",
    "plt.show()"
   ]
  },
  {
   "cell_type": "raw",
   "id": "2d24d494",
   "metadata": {},
   "source": [
    "We can see the rates of change of the above-mentioned values with each target show a specific trend. We can also spot outliers. Let's have a look at outliers on a more suitable plot."
   ]
  },
  {
   "cell_type": "code",
   "execution_count": null,
   "id": "56202f12",
   "metadata": {},
   "outputs": [],
   "source": [
    "# check the outliers\n",
    "columns=['baseline value', 'accelerations', 'fetal_movement',\n",
    "       'uterine_contractions', 'light_decelerations', 'severe_decelerations',\n",
    "       'prolongued_decelerations', 'abnormal_short_term_variability',\n",
    "       'mean_value_of_short_term_variability',\n",
    "       'percentage_of_time_with_abnormal_long_term_variability',\n",
    "       'mean_value_of_long_term_variability', 'histogram_width',\n",
    "       'histogram_min', 'histogram_max', 'histogram_number_of_peaks',\n",
    "       'histogram_number_of_zeroes', 'histogram_mode', 'histogram_mean',\n",
    "       'histogram_median', 'histogram_variance', 'histogram_tendency',\n",
    "       'fetal_health']\n",
    "columns"
   ]
  },
  {
   "cell_type": "code",
   "execution_count": null,
   "id": "be857cc7",
   "metadata": {},
   "outputs": [],
   "source": [
    "# checking for column distribution\n",
    "\n",
    "plt.figure(figsize=(10,10))\n",
    "plot_number=1\n",
    "for column in df:\n",
    "    if plot_number<=21:\n",
    "        ax=plt.subplot(7,3,plot_number)\n",
    "        sns.histplot(df[column])\n",
    "        plt.xlabel(column)\n",
    "        plt.ylabel('count')\n",
    "    plot_number+=1"
   ]
  },
  {
   "cell_type": "code",
   "execution_count": null,
   "id": "abeb5bf3",
   "metadata": {},
   "outputs": [],
   "source": [
    "# checking for column distribution\n",
    "plt.figure(figsize=(10,10))\n",
    "plot_number=1\n",
    "for column in df:\n",
    "    if plot_number<=21:\n",
    "        ax=plt.subplot(7,3,plot_number)\n",
    "        sns.histplot(df[column])\n",
    "        plt.xlabel(column)\n",
    "        plt.ylabel('count')\n",
    "    plot_number+=1\n",
    "plt.tight_layout()    "
   ]
  },
  {
   "cell_type": "code",
   "execution_count": null,
   "id": "4caaceb6",
   "metadata": {},
   "outputs": [],
   "source": [
    "# checking for column distribution\n",
    "import warnings\n",
    "warnings.filterwarnings('ignore')\n",
    "plt.figure(figsize=(15,15))\n",
    "plot_number=1\n",
    "for column in df:\n",
    "    if plot_number<=21:\n",
    "        ax=plt.subplot(7,3,plot_number)\n",
    "        sns.boxplot(df[column])\n",
    "        plt.xlabel(column)\n",
    "        plt.ylabel('count')\n",
    "    plot_number+=1"
   ]
  },
  {
   "cell_type": "code",
   "execution_count": null,
   "id": "fba36422",
   "metadata": {},
   "outputs": [],
   "source": [
    "shades =[\"#f7b2b0\",\"#c98ea6\",\"#8f7198\",\"#50587f\", \"#003f5c\"]\n",
    "plt.figure(figsize=(20,10))\n",
    "sns.boxenplot(data = df,palette = shades)\n",
    "plt.xticks(rotation=90)\n",
    "plt.show()"
   ]
  },
  {
   "cell_type": "code",
   "execution_count": null,
   "id": "791f1568",
   "metadata": {},
   "outputs": [],
   "source": [
    "plt.figure(figsize=(15,10))\n",
    "sns.boxplot(data=df)"
   ]
  },
  {
   "cell_type": "code",
   "execution_count": null,
   "id": "abf5c86d",
   "metadata": {},
   "outputs": [],
   "source": [
    "# sns.pairplot(df)"
   ]
  },
  {
   "cell_type": "markdown",
   "id": "98d8cd30",
   "metadata": {},
   "source": [
    "# MODEL SELECTION AND BUILDING\n",
    "In this section we will:\n",
    "\n",
    "Set up features(X) and target(Y)\n",
    "Scale the features\n",
    "Split training and test sets\n",
    "Model selection\n",
    "Hyperparameter tuning"
   ]
  },
  {
   "cell_type": "code",
   "execution_count": null,
   "id": "40879473",
   "metadata": {},
   "outputs": [],
   "source": [
    "X=df.drop('fetal_health',axis=1)\n",
    "y=df.fetal_health"
   ]
  },
  {
   "cell_type": "code",
   "execution_count": null,
   "id": "ed80a25d",
   "metadata": {},
   "outputs": [],
   "source": [
    "X.shape"
   ]
  },
  {
   "cell_type": "code",
   "execution_count": null,
   "id": "248efc3d",
   "metadata": {},
   "outputs": [],
   "source": [
    "from sklearn.preprocessing import StandardScaler\n",
    "scaler=StandardScaler()"
   ]
  },
  {
   "cell_type": "code",
   "execution_count": null,
   "id": "efb1c394",
   "metadata": {},
   "outputs": [],
   "source": [
    "cols=list(X.columns)\n",
    "cols"
   ]
  },
  {
   "cell_type": "code",
   "execution_count": null,
   "id": "b1207a3d",
   "metadata": {},
   "outputs": [],
   "source": [
    "X_df=scaler.fit_transform(X)"
   ]
  },
  {
   "cell_type": "code",
   "execution_count": null,
   "id": "cde96f33",
   "metadata": {},
   "outputs": [],
   "source": [
    "X_df=pd.DataFrame(X_df,columns=cols)"
   ]
  },
  {
   "cell_type": "code",
   "execution_count": null,
   "id": "f024b98d",
   "metadata": {},
   "outputs": [],
   "source": [
    "plt.figure(figsize=(20,10))\n",
    "sns.boxplot(data=X_df)\n",
    "plt.xticks(rotation=90)\n",
    "plt.show()"
   ]
  },
  {
   "cell_type": "code",
   "execution_count": null,
   "id": "2a0784ed",
   "metadata": {},
   "outputs": [],
   "source": [
    "# Splitting data X & y\n",
    "from sklearn.model_selection import train_test_split\n",
    "X_train,X_test,y_train,y_test=train_test_split(X_df,y,test_size=0.3,random_state=42)"
   ]
  },
  {
   "cell_type": "code",
   "execution_count": null,
   "id": "49238aa1",
   "metadata": {},
   "outputs": [],
   "source": [
    "X_train"
   ]
  },
  {
   "cell_type": "code",
   "execution_count": null,
   "id": "6841f3bf",
   "metadata": {},
   "outputs": [],
   "source": [
    "lr=LogisticRegression()\n",
    "lr.fit(X_train,y_train)"
   ]
  },
  {
   "cell_type": "code",
   "execution_count": null,
   "id": "9c6805ad",
   "metadata": {},
   "outputs": [],
   "source": [
    "y_pred=lr.predict(X_test)"
   ]
  },
  {
   "cell_type": "code",
   "execution_count": null,
   "id": "08e2ada0",
   "metadata": {},
   "outputs": [],
   "source": [
    "confusion_matrix(y_pred,y_test)"
   ]
  },
  {
   "cell_type": "code",
   "execution_count": null,
   "id": "d5d6b538",
   "metadata": {},
   "outputs": [],
   "source": [
    "accuracy_score(y_pred,y_test)"
   ]
  },
  {
   "cell_type": "code",
   "execution_count": null,
   "id": "68356345",
   "metadata": {},
   "outputs": [],
   "source": [
    "recall_score(y_pred,y_test,average='weighted')"
   ]
  },
  {
   "cell_type": "code",
   "execution_count": null,
   "id": "1bbd4f73",
   "metadata": {},
   "outputs": [],
   "source": [
    "precision_score(y_pred,y_test,average='weighted')"
   ]
  },
  {
   "cell_type": "code",
   "execution_count": null,
   "id": "017c2dc7",
   "metadata": {},
   "outputs": [],
   "source": [
    "f1_score(y_pred,y_test,average='macro')"
   ]
  },
  {
   "cell_type": "code",
   "execution_count": null,
   "id": "37744940",
   "metadata": {},
   "outputs": [],
   "source": [
    "X_test.shape"
   ]
  },
  {
   "cell_type": "code",
   "execution_count": null,
   "id": "75d7e026",
   "metadata": {},
   "outputs": [],
   "source": [
    "y_pred[:13]"
   ]
  },
  {
   "cell_type": "code",
   "execution_count": null,
   "id": "12d9d4d6",
   "metadata": {},
   "outputs": [],
   "source": [
    "y_test.head(13)"
   ]
  },
  {
   "cell_type": "code",
   "execution_count": null,
   "id": "1fc137b5",
   "metadata": {},
   "outputs": [],
   "source": [
    "pd.DataFrame(lr.predict_proba(X_test))"
   ]
  },
  {
   "cell_type": "code",
   "execution_count": null,
   "id": "2d0e46d7",
   "metadata": {},
   "outputs": [],
   "source": [
    "print(classification_report(y_pred,y_test))"
   ]
  },
  {
   "cell_type": "code",
   "execution_count": null,
   "id": "4068f879",
   "metadata": {},
   "outputs": [],
   "source": [
    "from sklearn.linear_model import LogisticRegression\n",
    "from sklearn.tree import DecisionTreeClassifier\n",
    "from sklearn.ensemble import RandomForestClassifier\n",
    "from sklearn.svm import SVC\n",
    "from sklearn.svm import LinearSVC\n",
    "from sklearn.model_selection import GridSearchCV\n",
    "from sklearn.metrics import accuracy_score,classification_report,confusion_matrix,f1_score,precision_score,recall_score\n",
    "from sklearn.metrics import roc_auc_score,roc_curve,auc"
   ]
  },
  {
   "cell_type": "code",
   "execution_count": null,
   "id": "19770a16",
   "metadata": {},
   "outputs": [],
   "source": [
    "# A quick model selection process\n",
    "from sklearn.pipeline import Pipeline"
   ]
  },
  {
   "cell_type": "code",
   "execution_count": null,
   "id": "011c9ea0",
   "metadata": {},
   "outputs": [],
   "source": [
    "pipeline_lr=Pipeline([('lr_classifier',LogisticRegression(random_state=42))])\n",
    "pipeline_dt=Pipeline([(\"dt_classifier\",DecisionTreeClassifier(random_state=42))])\n",
    "pipeline_svc=Pipeline([('sv_classifier',SVC())])\n",
    "pipeline_rf=Pipeline([('rf_classifier',RandomForestClassifier())])\n"
   ]
  },
  {
   "cell_type": "code",
   "execution_count": null,
   "id": "fd712c19",
   "metadata": {},
   "outputs": [],
   "source": [
    "pipelines=[pipeline_lr,pipeline_dt,pipeline_svc,pipeline_rf]\n",
    "pip_dic={0:\"Logistic Regression\",1:\"Decision Tree\",2:\"SVC\",3:\"Random Forest\"}"
   ]
  },
  {
   "cell_type": "code",
   "execution_count": null,
   "id": "0706740e",
   "metadata": {},
   "outputs": [],
   "source": [
    "for pipe in pipelines:\n",
    "    pipe.fit(X_train,y_train)\n",
    "    "
   ]
  },
  {
   "cell_type": "code",
   "execution_count": null,
   "id": "adf27bb9",
   "metadata": {},
   "outputs": [],
   "source": [
    "#cross validation on accuracy\n",
    "cv_result_ac=[]\n",
    "from sklearn.model_selection import cross_val_score"
   ]
  },
  {
   "cell_type": "code",
   "execution_count": null,
   "id": "ecc1aa93",
   "metadata": {},
   "outputs": [],
   "source": [
    "for i, model in enumerate (pipelines):\n",
    "    cv_score=cross_val_score(model,X_train,y_train,cv=10)\n",
    "    cv_result_ac.append(cv_score)\n",
    "    print(\"%s:%f\" %(pip_dic[i],cv_score.mean()))"
   ]
  },
  {
   "cell_type": "raw",
   "id": "39c79a2e",
   "metadata": {},
   "source": [
    "So Random Forest does best amongst the models to be the most accurate. Lets build a better random forest with grid search cv. Let's find out how it performs on testset"
   ]
  },
  {
   "cell_type": "code",
   "execution_count": null,
   "id": "d5949576",
   "metadata": {},
   "outputs": [],
   "source": [
    "# Predict X_test\n",
    "pred_rfc=pipeline_rf.predict(X_test)\n",
    "ac=accuracy_score(y_test,pred_rfc)\n",
    "print(ac)"
   ]
  },
  {
   "cell_type": "code",
   "execution_count": null,
   "id": "46e3db19",
   "metadata": {},
   "outputs": [],
   "source": [
    "pred_lr=pipeline_lr.predict(X_test)\n",
    "ac=accuracy_score(y_test,pred_lr)\n",
    "ac"
   ]
  },
  {
   "cell_type": "code",
   "execution_count": null,
   "id": "5051f2ef",
   "metadata": {},
   "outputs": [],
   "source": [
    "#Building a dictionalry with list of optional values that will me analyesed by GridSearch CV\n",
    "parameters = { \n",
    "    'n_estimators': [100,150, 200,500,700,900],\n",
    "    'max_features': ['auto', 'sqrt', 'log2'],\n",
    "    'max_depth' : [4,6,8,12,14,16],\n",
    "    'criterion' :['gini', 'entropy'],\n",
    "    'n_jobs':[-1,1,None]}"
   ]
  },
  {
   "cell_type": "code",
   "execution_count": null,
   "id": "6a6ec107",
   "metadata": {},
   "outputs": [],
   "source": [
    "#Fitting the trainingset to find parameters with best accuracy\n",
    "\n",
    "CV_rfc = GridSearchCV(estimator=RandomForestClassifier(), param_grid=parameters, cv= 5)\n",
    "CV_rfc.fit(X_train, y_train)\n",
    "\n",
    "#Getting the outcome of gridsearch\n",
    "\n",
    "CV_rfc.best_params_"
   ]
  },
  {
   "cell_type": "code",
   "execution_count": null,
   "id": "d32c25ad",
   "metadata": {},
   "outputs": [],
   "source": []
  },
  {
   "cell_type": "code",
   "execution_count": null,
   "id": "355f4157",
   "metadata": {},
   "outputs": [],
   "source": []
  }
 ],
 "metadata": {
  "kernelspec": {
   "display_name": "Python 3 (ipykernel)",
   "language": "python",
   "name": "python3"
  },
  "language_info": {
   "codemirror_mode": {
    "name": "ipython",
    "version": 3
   },
   "file_extension": ".py",
   "mimetype": "text/x-python",
   "name": "python",
   "nbconvert_exporter": "python",
   "pygments_lexer": "ipython3",
   "version": "3.9.12"
  }
 },
 "nbformat": 4,
 "nbformat_minor": 5
}
